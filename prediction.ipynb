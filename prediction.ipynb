{
 "cells": [
  {
   "cell_type": "code",
   "execution_count": 1,
   "id": "53efe43d-e9e8-4dff-b6e8-6d32f22c1ada",
   "metadata": {},
   "outputs": [
    {
     "name": "stdout",
     "output_type": "stream",
     "text": [
      "0.9327731092436976\n",
      "0.9263865065751858\n",
      "0.9407505910165485\n",
      "              precision    recall  f1-score   support\n",
      "\n",
      "           0       0.87      0.98      0.92        47\n",
      "           1       0.98      0.90      0.94        72\n",
      "\n",
      "    accuracy                           0.93       119\n",
      "   macro avg       0.93      0.94      0.93       119\n",
      "weighted avg       0.94      0.93      0.93       119\n",
      "\n"
     ]
    }
   ],
   "source": [
    "import pandas as pd\n",
    "import numpy as np\n",
    "from sklearn.model_selection import train_test_split\n",
    "from sklearn.metrics import f1_score, accuracy_score, f1_score, precision_score, recall_score, classification_report, confusion_matrix,plot_confusion_matrix\n",
    "from sklearn.neighbors import KNeighborsClassifier,KNeighborsRegressor\n",
    "from sklearn.linear_model import LogisticRegression\n",
    "from sklearn.compose import ColumnTransformer\n",
    "from sklearn.pipeline import Pipeline\n",
    "from sklearn.impute import SimpleImputer\n",
    "from sklearn.model_selection import GridSearchCV\n",
    "from sklearn.preprocessing import PolynomialFeatures, MinMaxScaler, OneHotEncoder, StandardScaler\n",
    "from  sklearn.neural_network import MLPClassifier\n",
    "df = pd.read_csv(\"archive/heart_statlog_cleveland_hungary_final.csv\")\n",
    "num_cols = list(df.dtypes[df.dtypes != 'object'].index.values) \n",
    "num_cols.remove('target')\n",
    "X = df[df.columns.difference(['target'])]\n",
    "y = df['target']\n",
    "X_train, X_test, y_train, y_test = train_test_split(X, y, test_size=0.10, random_state=42)\n",
    "numerical = Pipeline(steps=[\n",
    "    #imputer fill na value with median\n",
    "    ('imputer', SimpleImputer(strategy='median')),\n",
    "    ('scaler', StandardScaler()),\n",
    "    ('poly', PolynomialFeatures(2))])\n",
    "column_preprocessor = ColumnTransformer(\n",
    "    transformers=[\n",
    "        ('num', numerical, num_cols)])\n",
    "\n",
    "clf = Pipeline(steps=[('preprocessor', column_preprocessor),\n",
    "                      ('classifier', MLPClassifier(max_iter=1200))])\n",
    "clf.fit(X_train, y_train) \n",
    "y_pred = clf.predict(X_test)\n",
    "\n",
    "print(f1_score(y_test, y_pred, average='micro'))\n",
    "print(precision_score(y_test, y_pred, average=\"macro\"))\n",
    "print(recall_score(y_test, y_pred, average=\"macro\"))\n",
    "print(classification_report(y_test,y_pred))"
   ]
  },
  {
   "cell_type": "code",
   "execution_count": 2,
   "id": "ac16b118-c683-4618-b9cd-11f59d287064",
   "metadata": {
    "tags": []
   },
   "outputs": [
    {
     "name": "stdout",
     "output_type": "stream",
     "text": [
      "Fitting 3 folds for each of 1 candidates, totalling 3 fits\n"
     ]
    }
   ],
   "source": [
    "\n",
    "param_dict = { \n",
    "    'classifier__solver': [ 'sgd'],\n",
    "    'classifier__learning_rate':[\"adaptive\"], \n",
    "    'classifier__hidden_layer_sizes': [(800, 800, 800, 800,800)],\n",
    "    'classifier__activation': ['relu'],\n",
    "    \n",
    "}\n",
    "\n",
    "grid = GridSearchCV(clf, param_dict, cv=3, verbose=1, n_jobs=-1)\n",
    "best_model = grid.fit(X_train, y_train)\n"
   ]
  },
  {
   "cell_type": "code",
   "execution_count": 10,
   "id": "f9301a73-4dbb-48a0-80d3-c4d8777213c4",
   "metadata": {},
   "outputs": [
    {
     "name": "stdout",
     "output_type": "stream",
     "text": [
      "0.9327731092436976\n",
      "0.9264705882352942\n",
      "0.9370567375886525\n",
      "              precision    recall  f1-score   support\n",
      "\n",
      "           0       0.88      0.96      0.92        47\n",
      "           1       0.97      0.92      0.94        72\n",
      "\n",
      "    accuracy                           0.93       119\n",
      "   macro avg       0.93      0.94      0.93       119\n",
      "weighted avg       0.94      0.93      0.93       119\n",
      "\n"
     ]
    }
   ],
   "source": [
    "neigh = best_model.best_estimator_\n",
    "neigh.fit(X_train, y_train) \n",
    "y_pred = neigh.predict(X_test)\n",
    "print(f1_score(y_test, y_pred, average='micro'))\n",
    "print(precision_score(y_test, y_pred, average=\"macro\"))\n",
    "print(recall_score(y_test, y_pred, average=\"macro\"))\n",
    "print(classification_report(y_test,y_pred))"
   ]
  },
  {
   "cell_type": "code",
   "execution_count": 4,
   "id": "3d95301f-b6b6-4be1-8121-8d6634684e5c",
   "metadata": {},
   "outputs": [
    {
     "name": "stdout",
     "output_type": "stream",
     "text": [
      "Pipeline(steps=[('preprocessor',\n",
      "                 ColumnTransformer(transformers=[('num',\n",
      "                                                  Pipeline(steps=[('imputer',\n",
      "                                                                   SimpleImputer(strategy='median')),\n",
      "                                                                  ('scaler',\n",
      "                                                                   StandardScaler()),\n",
      "                                                                  ('poly',\n",
      "                                                                   PolynomialFeatures())]),\n",
      "                                                  ['age', 'sex',\n",
      "                                                   'chest pain type',\n",
      "                                                   'resting bp s',\n",
      "                                                   'cholesterol',\n",
      "                                                   'fasting blood sugar',\n",
      "                                                   'resting ecg',\n",
      "                                                   'max heart rate',\n",
      "                                                   'exercise angina', 'oldpeak',\n",
      "                                                   'ST slope'])])),\n",
      "                ('classifier',\n",
      "                 MLPClassifier(hidden_layer_sizes=(800, 800, 800, 800, 800),\n",
      "                               learning_rate='adaptive', max_iter=1200,\n",
      "                               solver='sgd'))])\n"
     ]
    }
   ],
   "source": [
    "print(best_model.best_estimator_)"
   ]
  },
  {
   "cell_type": "code",
   "execution_count": 7,
   "id": "a2043c0e-0bbd-4cab-9c9c-b4f27fc205a5",
   "metadata": {},
   "outputs": [
    {
     "data": {
      "text/plain": [
       "['my_model.pkl']"
      ]
     },
     "execution_count": 7,
     "metadata": {},
     "output_type": "execute_result"
    }
   ],
   "source": [
    "import joblib\n",
    "joblib.dump(neigh, 'my_model.pkl', compress=9)"
   ]
  }
 ],
 "metadata": {
  "kernelspec": {
   "display_name": "Python 3 (ipykernel)",
   "language": "python",
   "name": "python3"
  },
  "language_info": {
   "codemirror_mode": {
    "name": "ipython",
    "version": 3
   },
   "file_extension": ".py",
   "mimetype": "text/x-python",
   "name": "python",
   "nbconvert_exporter": "python",
   "pygments_lexer": "ipython3",
   "version": "3.10.4"
  }
 },
 "nbformat": 4,
 "nbformat_minor": 5
}
